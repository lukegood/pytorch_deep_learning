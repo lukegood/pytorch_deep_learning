{
 "cells": [
  {
   "cell_type": "markdown",
   "metadata": {},
   "source": [
    "# chapter3"
   ]
  },
  {
   "cell_type": "code",
   "execution_count": 16,
   "metadata": {},
   "outputs": [],
   "source": [
    "import torch\n",
    "from torch.nn import Linear, ReLU\n",
    "import torch.nn as nn\n",
    "from torch.autograd import Variable\n",
    "import numpy as np"
   ]
  },
  {
   "cell_type": "code",
   "execution_count": 17,
   "metadata": {},
   "outputs": [
    {
     "data": {
      "text/plain": [
       "Parameter containing:\n",
       "tensor([[ 0.0581, -0.0478, -0.1132, -0.1353, -0.1377,  0.2486,  0.3033, -0.1292,\n",
       "          0.1333,  0.1000],\n",
       "        [-0.1694, -0.2312, -0.2211,  0.2201,  0.2145, -0.1763,  0.0248,  0.1832,\n",
       "         -0.1519,  0.0332],\n",
       "        [ 0.0481,  0.1951,  0.2831, -0.2707,  0.1123, -0.2313,  0.0513, -0.1029,\n",
       "          0.2237, -0.2056],\n",
       "        [-0.0630, -0.1494, -0.1532, -0.3082,  0.2125, -0.1918, -0.3117,  0.1649,\n",
       "         -0.2635,  0.0657],\n",
       "        [ 0.0831,  0.2756,  0.1294,  0.0075,  0.1168,  0.0533, -0.1212,  0.1832,\n",
       "          0.0718, -0.3138]], requires_grad=True)"
      ]
     },
     "execution_count": 17,
     "metadata": {},
     "output_type": "execute_result"
    }
   ],
   "source": [
    "inp = Variable(torch.randn(1, 10))\n",
    "myLayer = Linear(in_features=10, out_features=5, bias=True)\n",
    "myLayer(inp)\n",
    "myLayer.weight"
   ]
  },
  {
   "cell_type": "code",
   "execution_count": 8,
   "metadata": {},
   "outputs": [
    {
     "data": {
      "text/plain": [
       "Parameter containing:\n",
       "tensor([-0.1581,  0.1376,  0.1011, -0.0507, -0.1523], requires_grad=True)"
      ]
     },
     "execution_count": 8,
     "metadata": {},
     "output_type": "execute_result"
    }
   ],
   "source": [
    "myLayer.bias"
   ]
  },
  {
   "cell_type": "code",
   "execution_count": 15,
   "metadata": {},
   "outputs": [
    {
     "data": {
      "text/plain": [
       "tensor([[1., 2., 0., 0.]])"
      ]
     },
     "execution_count": 15,
     "metadata": {},
     "output_type": "execute_result"
    }
   ],
   "source": [
    "simple_data = Variable(torch.Tensor([[1, 2, -1, -1]]))\n",
    "myReLU = ReLU()\n",
    "myReLU(simple_data)"
   ]
  },
  {
   "cell_type": "code",
   "execution_count": null,
   "metadata": {},
   "outputs": [],
   "source": [
    "class MyFirstNetwork(nn.Module):  # 通过将父类作为参数传入子类来完成继承，super方法用于将子类的参数传给父类。\n",
    "    def __init__(self, input_size, hidden_size, output_size): \n",
    "        super(MyFirstNetwork, self).__init__()\n",
    "        self.layer1 = nn.Linear(input_size, hidden_size)\n",
    "        self.layer2 = nn.Linear(hidden_size, output_size)\n",
    "    def __forward__(self, input):\n",
    "        out = self.layer1(input)\n",
    "        out2 = nn.ReLU(out)\n",
    "        out3 = self.layer2(out2)\n",
    "        return out"
   ]
  },
  {
   "cell_type": "code",
   "execution_count": 18,
   "metadata": {},
   "outputs": [],
   "source": [
    "loss = nn.MSELoss()\n",
    "input = Variable(torch.randn(3, 5), requires_grad = True)\n",
    "target = Variable(torch.randn(3, 5))\n",
    "output = loss(input, target)\n",
    "output.backward()"
   ]
  },
  {
   "cell_type": "code",
   "execution_count": null,
   "metadata": {},
   "outputs": [],
   "source": []
  }
 ],
 "metadata": {
  "kernelspec": {
   "display_name": "Python 3",
   "language": "python",
   "name": "python3"
  },
  "language_info": {
   "codemirror_mode": {
    "name": "ipython",
    "version": 3
   },
   "file_extension": ".py",
   "mimetype": "text/x-python",
   "name": "python",
   "nbconvert_exporter": "python",
   "pygments_lexer": "ipython3",
   "version": "3.7.4"
  }
 },
 "nbformat": 4,
 "nbformat_minor": 2
}
